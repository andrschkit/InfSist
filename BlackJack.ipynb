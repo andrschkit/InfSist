{
 "cells": [
  {
   "cell_type": "code",
   "execution_count": 34,
   "metadata": {
    "scrolled": true
   },
   "outputs": [],
   "source": [
    "class Card(object):\n",
    "    def __init__(self, rank, suit):\n",
    "        self.rank = rank\n",
    "        self.suit = suit\n",
    " \n",
    "    def card_value(self):\n",
    "        if self.rank in \"TJQK\":\n",
    "            return 10\n",
    "        else:\n",
    "            return \" A23456789\".index(self.rank)\n",
    " \n",
    "    def get_rank(self):\n",
    "        return self.rank\n",
    " \n",
    "    def __str__(self):\n",
    "        return \"%s%s\" % (self.rank, self.suit)\n",
    "class Hand(object):\n",
    "    def __init__(self, name):\n",
    "        self.name = name\n",
    "        self.cards = []\n",
    " \n",
    "    def add_card(self, card):\n",
    "        self.cards.append(card)\n",
    " \n",
    "    def get_value(self):\n",
    "        result = 0\n",
    "        aces = 0\n",
    "        for card in self.cards:\n",
    "            result += card.card_value()\n",
    "            if card.get_rank() == \"A\":\n",
    "                aces += 1\n",
    "        if result + aces * 10 <= 21:\n",
    "            result += aces * 10\n",
    "        return result\n",
    " \n",
    "    def __str__(self):\n",
    "        text = \"Рука %s:\\n\" % self.name\n",
    "        for card in self.cards:\n",
    "            text += str(card) + \" \"\n",
    "        text += \"\\nКоличество очков: \" + str(self.get_value())\n",
    "        return text\n",
    "from random import shuffle\n",
    "class Deck(object):\n",
    "    def __init__(self):\n",
    "        ranks = \"23456789TJQKA\"\n",
    "        suits = \"ПТБЧ\"\n",
    "        self.cards = [Card(r,s) for r in ranks for s in suits]\n",
    "        shuffle(self.cards)\n",
    " \n",
    "    def deal_card(self):\n",
    "        return self.cards.pop()"
   ]
  },
  {
   "cell_type": "code",
   "execution_count": 35,
   "metadata": {},
   "outputs": [],
   "source": [
    "from random import shuffle\n",
    "def new_game():\n",
    "    d = Deck()\n",
    "    player_hand = Hand('Игрока')\n",
    "    dealer_hand = Hand('Дилера')\n",
    "    player_hand.add_card(d.deal_card())\n",
    "    player_hand.add_card(d.deal_card())\n",
    "    dealer_hand.add_card(d.deal_card())\n",
    "    print (dealer_hand)\n",
    "    print ('='*25)\n",
    "    print (player_hand)\n",
    "    in_game = True\n",
    "    while player_hand.get_value() < 21:\n",
    "        ans = input('Больше или хватит? (б/х) ')\n",
    "        if ans == 'б':\n",
    "            player_hand.add_card(d.deal_card())\n",
    "            print (player_hand)\n",
    "            if player_hand.get_value() > 21:\n",
    "                print ('Вы проиграли')\n",
    "                in_game = False\n",
    "        else:\n",
    "            print ('Вы оставляете')\n",
    "            break\n",
    "    print ('=' * 25)\n",
    "    if in_game:\n",
    "        while dealer_hand.get_value() < 18:\n",
    "            dealer_hand.add_card(d.deal_card())\n",
    "            print (dealer_hand)\n",
    "            if dealer_hand.get_value() > 21:\n",
    "                print ('Дилер проиграл')\n",
    "                in_game = False\n",
    "    if in_game:\n",
    "        if player_hand.get_value() > dealer_hand.get_value():\n",
    "            print ('Вы выиграли')\n",
    "        else:\n",
    "            print ('Дилер выиграл')\n",
    "            "
   ]
  },
  {
   "cell_type": "code",
   "execution_count": 37,
   "metadata": {
    "scrolled": true
   },
   "outputs": [
    {
     "name": "stdout",
     "output_type": "stream",
     "text": [
      "Рука Дилера:\n",
      "2Т \n",
      "Количество очков: 2\n",
      "=========================\n",
      "Рука Игрока:\n",
      "2Б 5Ч \n",
      "Количество очков: 7\n",
      "Больше или хватит? (б/х) б\n",
      "Рука Игрока:\n",
      "2Б 5Ч JЧ \n",
      "Количество очков: 17\n",
      "Больше или хватит? (б/х) х\n",
      "Вы оставляете\n",
      "=========================\n",
      "Рука Дилера:\n",
      "2Т TП \n",
      "Количество очков: 12\n",
      "Рука Дилера:\n",
      "2Т TП 3П \n",
      "Количество очков: 15\n",
      "Рука Дилера:\n",
      "2Т TП 3П QБ \n",
      "Количество очков: 25\n",
      "Дилер проиграл\n"
     ]
    }
   ],
   "source": [
    "new_game()"
   ]
  },
  {
   "cell_type": "code",
   "execution_count": null,
   "metadata": {},
   "outputs": [],
   "source": []
  },
  {
   "cell_type": "code",
   "execution_count": null,
   "metadata": {},
   "outputs": [],
   "source": []
  }
 ],
 "metadata": {
  "kernelspec": {
   "display_name": "Python 3",
   "language": "python",
   "name": "python3"
  },
  "language_info": {
   "codemirror_mode": {
    "name": "ipython",
    "version": 3
   },
   "file_extension": ".py",
   "mimetype": "text/x-python",
   "name": "python",
   "nbconvert_exporter": "python",
   "pygments_lexer": "ipython3",
   "version": "3.7.4"
  }
 },
 "nbformat": 4,
 "nbformat_minor": 2
}
